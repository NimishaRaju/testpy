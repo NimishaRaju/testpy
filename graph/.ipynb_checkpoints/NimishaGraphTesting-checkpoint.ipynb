{
 "cells": [
  {
   "cell_type": "code",
   "execution_count": 10,
   "metadata": {},
   "outputs": [],
   "source": [
    "import math\n",
    "import networkx as nx\n",
    "import matplotlib.pyplot as plt\n",
    "from matplotlib.pyplot import figure\n",
    "import sys"
   ]
  },
  {
   "cell_type": "code",
   "execution_count": 11,
   "metadata": {},
   "outputs": [],
   "source": [
    "locations = {'Dublin':[53.421299, -6.270070],\n",
    "             'London':[51.470600, -0.461941], \n",
    "             'Copenhagen':[55.629846, 12.652327],\n",
    "            'Moscow':[55.5999640, 37.271162]} "
   ]
  },
  {
   "cell_type": "code",
   "execution_count": 12,
   "metadata": {},
   "outputs": [
    {
     "name": "stdout",
     "output_type": "stream",
     "text": [
      "Name: \n",
      "Type: Graph\n",
      "Number of nodes: 4\n",
      "Number of edges: 4\n",
      "Average degree:   2.0000\n"
     ]
    }
   ],
   "source": [
    "G = nx.Graph()\n",
    "\n",
    "for airport in locations:\n",
    "    G.add_node(airport)\n",
    "\n",
    "G.add_edge('Dublin', 'London')\n",
    "G.add_edge('Dublin', 'Copenhagen')\n",
    "G.add_edge('London', 'Copenhagen')\n",
    "G.add_edge('Copenhagen', 'Moscow')\n",
    "\n",
    "print(nx.info(G))"
   ]
  },
  {
   "cell_type": "code",
   "execution_count": 18,
   "metadata": {},
   "outputs": [
    {
     "data": {
      "image/png": "[encoded data removed]",
      "text/plain": [
       "<Figure size 432x288 with 1 Axes>"
      ]
     },
     "metadata": {
      "needs_background": "light"
     },
     "output_type": "display_data"
    }
   ],
   "source": [
    "#pos= {'a': [-.2, .7], 'b': [-.3,  -.8], 'c': [0,-.8], 'd': [0.4, -0.8], 'e': [-.7, -2.2], 'f': [-.1, -2.2], 'g': [.2,-2.2], 'h': [ -.4, -3.6], 'i': [ .7, -2.4], 'j': [.8, .7]}\n",
    "nx.draw_networkx_nodes(G, locations, node_size=1500, alpha=.9, node_color='#0000ac')\n",
    "nx.draw_networkx_edges(G, locations,\n",
    "                           width=2, alpha=0.5, edge_color='k', style='dashed')\n",
    "nx.draw_networkx_labels(G, locations, font_size=7, font_family='sans-serif', font_color='white')\n",
    "#figure(num=None, figsize=(20, 20), dpi=80, facecolor='w', edgecolor='k')\n",
    "#plt.ylim([-4.5,1.3])\n",
    "limits=plt.axis('off') # turn of axis"
   ]
  },
  {
   "cell_type": "code",
   "execution_count": null,
   "metadata": {},
   "outputs": [],
   "source": [
    "# need a list to store the nodes\n",
    "#need a linked list to store the weights and index value "
   ]
  },
  {
   "cell_type": "code",
   "execution_count": 2,
   "metadata": {},
   "outputs": [],
   "source": [
    "# import required modules\n",
    "import math\n",
    "# for permutation function\n",
    "import itertools\n",
    "from collections import Counter\n",
    "from random import choice\n",
    "import pandas as pd"
   ]
  },
  {
   "cell_type": "code",
   "execution_count": 3,
   "metadata": {},
   "outputs": [
    {
     "data": {
      "text/html": [
       "<div>\n",
       "<style scoped>\n",
       "    .dataframe tbody tr th:only-of-type {\n",
       "        vertical-align: middle;\n",
       "    }\n",
       "\n",
       "    .dataframe tbody tr th {\n",
       "        vertical-align: top;\n",
       "    }\n",
       "\n",
       "    .dataframe thead th {\n",
       "        text-align: right;\n",
       "    }\n",
       "</style>\n",
       "<table border=\"1\" class=\"dataframe\">\n",
       "  <thead>\n",
       "    <tr style=\"text-align: right;\">\n",
       "      <th></th>\n",
       "      <th>AIRPORT ID</th>\n",
       "      <th>NAME</th>\n",
       "      <th>CITY</th>\n",
       "      <th>COUNTRY</th>\n",
       "      <th>IATA</th>\n",
       "      <th>ICAO</th>\n",
       "      <th>Lat</th>\n",
       "      <th>Log</th>\n",
       "      <th>Altitude</th>\n",
       "      <th>TimeZone</th>\n",
       "      <th>DST</th>\n",
       "      <th>Tz</th>\n",
       "    </tr>\n",
       "  </thead>\n",
       "  <tbody>\n",
       "    <tr>\n",
       "      <th>0</th>\n",
       "      <td>1</td>\n",
       "      <td>Goroka</td>\n",
       "      <td>Goroka</td>\n",
       "      <td>Papua New Guinea</td>\n",
       "      <td>GKA</td>\n",
       "      <td>AYGA</td>\n",
       "      <td>-6.081689</td>\n",
       "      <td>145.391881</td>\n",
       "      <td>5282</td>\n",
       "      <td>10.0</td>\n",
       "      <td>U</td>\n",
       "      <td>Pacific/Port_Moresby</td>\n",
       "    </tr>\n",
       "    <tr>\n",
       "      <th>1</th>\n",
       "      <td>2</td>\n",
       "      <td>Madang</td>\n",
       "      <td>Madang</td>\n",
       "      <td>Papua New Guinea</td>\n",
       "      <td>MAG</td>\n",
       "      <td>AYMD</td>\n",
       "      <td>-5.207083</td>\n",
       "      <td>145.788700</td>\n",
       "      <td>20</td>\n",
       "      <td>10.0</td>\n",
       "      <td>U</td>\n",
       "      <td>Pacific/Port_Moresby</td>\n",
       "    </tr>\n",
       "    <tr>\n",
       "      <th>2</th>\n",
       "      <td>3</td>\n",
       "      <td>Mount Hagen</td>\n",
       "      <td>Mount Hagen</td>\n",
       "      <td>Papua New Guinea</td>\n",
       "      <td>HGU</td>\n",
       "      <td>AYMH</td>\n",
       "      <td>-5.826789</td>\n",
       "      <td>144.295861</td>\n",
       "      <td>5388</td>\n",
       "      <td>10.0</td>\n",
       "      <td>U</td>\n",
       "      <td>Pacific/Port_Moresby</td>\n",
       "    </tr>\n",
       "    <tr>\n",
       "      <th>3</th>\n",
       "      <td>4</td>\n",
       "      <td>Nadzab</td>\n",
       "      <td>Nadzab</td>\n",
       "      <td>Papua New Guinea</td>\n",
       "      <td>LAE</td>\n",
       "      <td>AYNZ</td>\n",
       "      <td>-6.569828</td>\n",
       "      <td>146.726242</td>\n",
       "      <td>239</td>\n",
       "      <td>10.0</td>\n",
       "      <td>U</td>\n",
       "      <td>Pacific/Port_Moresby</td>\n",
       "    </tr>\n",
       "    <tr>\n",
       "      <th>4</th>\n",
       "      <td>5</td>\n",
       "      <td>Port Moresby Jacksons Intl</td>\n",
       "      <td>Port Moresby</td>\n",
       "      <td>Papua New Guinea</td>\n",
       "      <td>POM</td>\n",
       "      <td>AYPY</td>\n",
       "      <td>-9.443383</td>\n",
       "      <td>147.220050</td>\n",
       "      <td>146</td>\n",
       "      <td>10.0</td>\n",
       "      <td>U</td>\n",
       "      <td>Pacific/Port_Moresby</td>\n",
       "    </tr>\n",
       "  </tbody>\n",
       "</table>\n",
       "</div>"
      ],
      "text/plain": [
       "   AIRPORT ID                        NAME          CITY           COUNTRY  \\\n",
       "0           1                      Goroka        Goroka  Papua New Guinea   \n",
       "1           2                      Madang        Madang  Papua New Guinea   \n",
       "2           3                 Mount Hagen   Mount Hagen  Papua New Guinea   \n",
       "3           4                      Nadzab        Nadzab  Papua New Guinea   \n",
       "4           5  Port Moresby Jacksons Intl  Port Moresby  Papua New Guinea   \n",
       "\n",
       "  IATA  ICAO       Lat         Log  Altitude  TimeZone DST  \\\n",
       "0  GKA  AYGA -6.081689  145.391881      5282      10.0   U   \n",
       "1  MAG  AYMD -5.207083  145.788700        20      10.0   U   \n",
       "2  HGU  AYMH -5.826789  144.295861      5388      10.0   U   \n",
       "3  LAE  AYNZ -6.569828  146.726242       239      10.0   U   \n",
       "4  POM  AYPY -9.443383  147.220050       146      10.0   U   \n",
       "\n",
       "                     Tz  \n",
       "0  Pacific/Port_Moresby  \n",
       "1  Pacific/Port_Moresby  \n",
       "2  Pacific/Port_Moresby  \n",
       "3  Pacific/Port_Moresby  \n",
       "4  Pacific/Port_Moresby  "
      ]
     },
     "execution_count": 3,
     "metadata": {},
     "output_type": "execute_result"
    }
   ],
   "source": [
    "airport_df=pd.read_csv('airport.csv')\n",
    "airport_df.head(5)"
   ]
  },
  {
   "cell_type": "code",
   "execution_count": 4,
   "metadata": {},
   "outputs": [
    {
     "data": {
      "text/html": [
       "<div>\n",
       "<style scoped>\n",
       "    .dataframe tbody tr th:only-of-type {\n",
       "        vertical-align: middle;\n",
       "    }\n",
       "\n",
       "    .dataframe tbody tr th {\n",
       "        vertical-align: top;\n",
       "    }\n",
       "\n",
       "    .dataframe thead th {\n",
       "        text-align: right;\n",
       "    }\n",
       "</style>\n",
       "<table border=\"1\" class=\"dataframe\">\n",
       "  <thead>\n",
       "    <tr style=\"text-align: right;\">\n",
       "      <th></th>\n",
       "      <th>Currency</th>\n",
       "      <th>CurrencyCode</th>\n",
       "      <th>toEuro</th>\n",
       "      <th>fromEuro</th>\n",
       "    </tr>\n",
       "  </thead>\n",
       "  <tbody>\n",
       "    <tr>\n",
       "      <th>0</th>\n",
       "      <td>Andorran Franc</td>\n",
       "      <td>ADF</td>\n",
       "      <td>0.152400</td>\n",
       "      <td>6.5596</td>\n",
       "    </tr>\n",
       "    <tr>\n",
       "      <th>1</th>\n",
       "      <td>Andorran Peseta</td>\n",
       "      <td>ADP</td>\n",
       "      <td>0.006010</td>\n",
       "      <td>166.3860</td>\n",
       "    </tr>\n",
       "    <tr>\n",
       "      <th>2</th>\n",
       "      <td>Utd. Arab Emir. Dirham</td>\n",
       "      <td>AED</td>\n",
       "      <td>0.258400</td>\n",
       "      <td>3.8722</td>\n",
       "    </tr>\n",
       "    <tr>\n",
       "      <th>3</th>\n",
       "      <td>Afghanistan Afghani</td>\n",
       "      <td>AFN</td>\n",
       "      <td>0.016440</td>\n",
       "      <td>61.0517</td>\n",
       "    </tr>\n",
       "    <tr>\n",
       "      <th>4</th>\n",
       "      <td>Albanian Lek</td>\n",
       "      <td>ALL</td>\n",
       "      <td>0.007237</td>\n",
       "      <td>143.2080</td>\n",
       "    </tr>\n",
       "  </tbody>\n",
       "</table>\n",
       "</div>"
      ],
      "text/plain": [
       "                 Currency CurrencyCode    toEuro  fromEuro\n",
       "0          Andorran Franc          ADF  0.152400    6.5596\n",
       "1         Andorran Peseta          ADP  0.006010  166.3860\n",
       "2  Utd. Arab Emir. Dirham          AED  0.258400    3.8722\n",
       "3     Afghanistan Afghani          AFN  0.016440   61.0517\n",
       "4            Albanian Lek          ALL  0.007237  143.2080"
      ]
     },
     "execution_count": 4,
     "metadata": {},
     "output_type": "execute_result"
    }
   ],
   "source": [
    "currencyRates_df=pd.read_csv('currencyrates.csv')\n",
    "currencyRates_df.head(5)"
   ]
  },
  {
   "cell_type": "code",
   "execution_count": null,
   "metadata": {},
   "outputs": [],
   "source": []
  },
  {
   "cell_type": "code",
   "execution_count": null,
   "metadata": {},
   "outputs": [],
   "source": []
  },
  {
   "cell_type": "code",
   "execution_count": null,
   "metadata": {},
   "outputs": [],
   "source": []
  },
  {
   "cell_type": "code",
   "execution_count": null,
   "metadata": {},
   "outputs": [],
   "source": []
  },
  {
   "cell_type": "code",
   "execution_count": 36,
   "metadata": {},
   "outputs": [
    {
     "name": "stdout",
     "output_type": "stream",
     "text": [
      "0  448.78  17215.26  5102.98  1096.72  \n",
      "629.59  0  23877.81  7771.35  1281.4  \n",
      "12486.23  12344.84  0  11614.6  11706.54  \n",
      "4841.71  5255.87  15193.62  0  5661.41  \n",
      "146.96  122.4  2162.8  799.57  0.0  \n"
     ]
    }
   ],
   "source": [
    "\n",
    "\n",
    "vertices=['Dublin','Heathrow','Sydney Intl','   John F Kennedy Intl','Aalborg']\n",
    "edges=[[0,448.78,17215.26,5102.98,1096.72],\n",
    "       [629.59,0,23877.81,7771.35,1281.4],\n",
    "       [12486.23,12344.84,0,11614.6,11706.54],\n",
    "       [4841.71,5255.87,15193.62,0,5661.41],\n",
    "       [146.96,122.4,2162.8,799.57,0.0]]\n",
    "\n",
    "for r in edges:\n",
    "    for c in r:\n",
    "         print(c,\" \",end=\"\")\n",
    "    print()\n",
    "     \n",
    "   \n",
    "['Dublin', 'Heathrow', 'John F Kennedy Intl', 'Aalborg', 'Sydney Intl', 'Dublin']"
   ]
  },
  {
   "cell_type": "code",
   "execution_count": 72,
   "metadata": {},
   "outputs": [
    {
     "name": "stdout",
     "output_type": "stream",
     "text": [
      "[41749.560000000005, 41674.41]\n",
      "[41674.41, 35267.25]\n",
      "[35267.25, 28530.57]\n",
      "[28530.57, 20349.29]\n",
      "[20349.29, 30209.600000000002]\n",
      "[20349.29, 43139.82]\n",
      "[20349.29, 36482.78]\n",
      "[20349.29, 35514.090000000004]\n",
      "[20349.29, 35243.26]\n",
      "[20349.29, 41657.26]\n",
      "[20349.29, 35606.829999999994]\n",
      "[20349.29, 46090.16]\n",
      "[20349.29, 26289.28]\n",
      "[20349.29, 34069.799999999996]\n",
      "[20349.29, 32755.13]\n",
      "[20349.29, 47250.83]\n",
      "[20349.29, 25901.62]\n",
      "[20349.29, 41553.24]\n",
      "[20349.29, 36670.32000000001]\n",
      "[20349.29, 28217.42]\n",
      "[20349.29, 20759.58]\n",
      "[20349.29, 43516.2]\n",
      "[20349.29, 30064.34]\n",
      "20349.29 (0, 1, 4, 2, 3, 0)\n"
     ]
    }
   ],
   "source": [
    "\n",
    "import itertools \n",
    "totalCost=0\n",
    "i=1\n",
    "start=0\n",
    "inp=[1,2,3,4]\n",
    "permu = list(itertools.permutations(inp))\n",
    "#print(permu)\n",
    "first=list()\n",
    "totalCost=0\n",
    "for n in permu:\n",
    "    n= (0,)+n+(0,)\n",
    "    #print(n)\n",
    "    for i in range(len(n)-1):\n",
    "        cur=n[i]\n",
    "        nex=n[i+1]\n",
    "        totalCost+=edges[cur][nex]\n",
    "    first.append(totalCost)\n",
    "    if len(first)>=2:\n",
    "        print(first)\n",
    "        if first[0]>first[1]:\n",
    "            first[0]=first[1]\n",
    "            inp=n\n",
    "        first.pop(1)\n",
    "    totalCost=0    \n",
    "      \n",
    "            \n",
    "print(first[0],inp)\n",
    "    \n",
    "\n",
    "\n",
    "   \n"
   ]
  },
  {
   "cell_type": "code",
   "execution_count": null,
   "metadata": {},
   "outputs": [],
   "source": [
    "#[0, 1,3,4, 2,0]"
   ]
  },
  {
   "cell_type": "code",
   "execution_count": null,
   "metadata": {},
   "outputs": [],
   "source": []
  },
  {
   "cell_type": "code",
   "execution_count": null,
   "metadata": {},
   "outputs": [],
   "source": []
  },
  {
   "cell_type": "code",
   "execution_count": null,
   "metadata": {},
   "outputs": [],
   "source": []
  },
  {
   "cell_type": "code",
   "execution_count": null,
   "metadata": {},
   "outputs": [],
   "source": []
  },
  {
   "cell_type": "code",
   "execution_count": null,
   "metadata": {},
   "outputs": [],
   "source": []
  }
 ],
 "metadata": {
  "kernelspec": {
   "display_name": "Python 3",
   "language": "python",
   "name": "python3"
  },
  "language_info": {
   "codemirror_mode": {
    "name": "ipython",
    "version": 3
   },
   "file_extension": ".py",
   "mimetype": "text/x-python",
   "name": "python",
   "nbconvert_exporter": "python",
   "pygments_lexer": "ipython3",
   "version": "3.7.0"
  }
 },
 "nbformat": 4,
 "nbformat_minor": 2
}
