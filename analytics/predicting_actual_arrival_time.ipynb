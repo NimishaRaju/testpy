{
 "cells": [
  {
   "cell_type": "code",
   "execution_count": 1,
   "metadata": {},
   "outputs": [],
   "source": [
    "import psycopg2 as ppg\n",
    "import pandas as pd\n",
    "import numpy as np\n",
    "import datetime as ct\n",
    "from sklearn.model_selection import train_test_split\n",
    "from sklearn.linear_model import LinearRegression\n",
    "import pickle\n",
    "import math\n",
    "import matplotlib.pyplot as plt\n",
    "import time\n",
    "import datetime "
   ]
  },
  {
   "cell_type": "code",
   "execution_count": 2,
   "metadata": {},
   "outputs": [],
   "source": [
    "creds = \"\"\"dbname=dublin_bus_db user=user1 password=manyCricketsChirp \n",
    "host=csi420-01-vm5.ucd.ie port = 80\"\"\""
   ]
  },
  {
   "cell_type": "code",
   "execution_count": 3,
   "metadata": {},
   "outputs": [],
   "source": [
    "conn = ppg.connect(creds)\n",
    "cur = conn.cursor()"
   ]
  },
  {
   "cell_type": "code",
   "execution_count": 4,
   "metadata": {},
   "outputs": [],
   "source": [
    "SQL = \"\"\"\n",
    "SELECT \"ActualTime_Arr\", \"DayOfService\", \"PlannedTime_Arr\",\"PlannedTime_Dep\",\"LineID\"\n",
    "FROM public.rt_trips_table ORDER BY \"DayOfService\" ASC\n",
    "\"\"\"\n",
    "# WHERE \"LineID\" = '46A' \n",
    "# AND \"Direction\" = 1\n",
    "# AND \"ActualTime_Arr\" is not null\n",
    "# AND \"ActualTime_Dep\" is not null;"
   ]
  },
  {
   "cell_type": "code",
   "execution_count": 5,
   "metadata": {},
   "outputs": [],
   "source": [
    "cur.execute(SQL)"
   ]
  },
  {
   "cell_type": "code",
   "execution_count": 6,
   "metadata": {},
   "outputs": [],
   "source": [
    "rows = cur.fetchall()\n",
    "cols = np.array([\"ActualTime_Arr\", \"DayOfService\", \"PlannedTime_Arr\",\"PlannedTime_Dep\",\"LineID\"])\n"
   ]
  },
  {
   "cell_type": "code",
   "execution_count": 7,
   "metadata": {},
   "outputs": [],
   "source": [
    "cur.close()\n",
    "conn.close()"
   ]
  },
  {
   "cell_type": "code",
   "execution_count": 8,
   "metadata": {},
   "outputs": [
    {
     "data": {
      "text/html": [
       "<div>\n",
       "<style scoped>\n",
       "    .dataframe tbody tr th:only-of-type {\n",
       "        vertical-align: middle;\n",
       "    }\n",
       "\n",
       "    .dataframe tbody tr th {\n",
       "        vertical-align: top;\n",
       "    }\n",
       "\n",
       "    .dataframe thead th {\n",
       "        text-align: right;\n",
       "    }\n",
       "</style>\n",
       "<table border=\"1\" class=\"dataframe\">\n",
       "  <thead>\n",
       "    <tr style=\"text-align: right;\">\n",
       "      <th></th>\n",
       "      <th>ActualTime_Arr</th>\n",
       "      <th>DayOfService</th>\n",
       "      <th>PlannedTime_Arr</th>\n",
       "      <th>PlannedTime_Dep</th>\n",
       "      <th>LineID</th>\n",
       "    </tr>\n",
       "  </thead>\n",
       "  <tbody>\n",
       "    <tr>\n",
       "      <th>0</th>\n",
       "      <td>38022</td>\n",
       "      <td>2018-01-01</td>\n",
       "      <td>38417</td>\n",
       "      <td>36000</td>\n",
       "      <td>1</td>\n",
       "    </tr>\n",
       "    <tr>\n",
       "      <th>1</th>\n",
       "      <td>49653</td>\n",
       "      <td>2018-01-01</td>\n",
       "      <td>50199</td>\n",
       "      <td>47400</td>\n",
       "      <td>1</td>\n",
       "    </tr>\n",
       "    <tr>\n",
       "      <th>2</th>\n",
       "      <td>61566</td>\n",
       "      <td>2018-01-01</td>\n",
       "      <td>61178</td>\n",
       "      <td>58200</td>\n",
       "      <td>1</td>\n",
       "    </tr>\n",
       "    <tr>\n",
       "      <th>3</th>\n",
       "      <td>64454</td>\n",
       "      <td>2018-01-01</td>\n",
       "      <td>64486</td>\n",
       "      <td>61800</td>\n",
       "      <td>1</td>\n",
       "    </tr>\n",
       "    <tr>\n",
       "      <th>4</th>\n",
       "      <td>77498</td>\n",
       "      <td>2018-01-01</td>\n",
       "      <td>77827</td>\n",
       "      <td>75600</td>\n",
       "      <td>1</td>\n",
       "    </tr>\n",
       "  </tbody>\n",
       "</table>\n",
       "</div>"
      ],
      "text/plain": [
       "  ActualTime_Arr DayOfService PlannedTime_Arr PlannedTime_Dep LineID\n",
       "0          38022   2018-01-01           38417           36000      1\n",
       "1          49653   2018-01-01           50199           47400      1\n",
       "2          61566   2018-01-01           61178           58200      1\n",
       "3          64454   2018-01-01           64486           61800      1\n",
       "4          77498   2018-01-01           77827           75600      1"
      ]
     },
     "execution_count": 8,
     "metadata": {},
     "output_type": "execute_result"
    }
   ],
   "source": [
    "df = pd.DataFrame(rows, columns = cols)\n",
    "df.head()"
   ]
  },
  {
   "cell_type": "code",
   "execution_count": 9,
   "metadata": {},
   "outputs": [
    {
     "data": {
      "text/plain": [
       "ActualTime_Arr     object\n",
       "DayOfService       object\n",
       "PlannedTime_Arr    object\n",
       "PlannedTime_Dep    object\n",
       "LineID             object\n",
       "dtype: object"
      ]
     },
     "execution_count": 9,
     "metadata": {},
     "output_type": "execute_result"
    }
   ],
   "source": [
    "df.dtypes\n"
   ]
  },
  {
   "cell_type": "code",
   "execution_count": 10,
   "metadata": {},
   "outputs": [],
   "source": [
    "df[\"DayOfService\"]=df[\"DayOfService\"].apply(lambda x: x.strftime('%d%m%Y'))\n"
   ]
  },
  {
   "cell_type": "code",
   "execution_count": 11,
   "metadata": {},
   "outputs": [
    {
     "data": {
      "text/html": [
       "<div>\n",
       "<style scoped>\n",
       "    .dataframe tbody tr th:only-of-type {\n",
       "        vertical-align: middle;\n",
       "    }\n",
       "\n",
       "    .dataframe tbody tr th {\n",
       "        vertical-align: top;\n",
       "    }\n",
       "\n",
       "    .dataframe thead th {\n",
       "        text-align: right;\n",
       "    }\n",
       "</style>\n",
       "<table border=\"1\" class=\"dataframe\">\n",
       "  <thead>\n",
       "    <tr style=\"text-align: right;\">\n",
       "      <th></th>\n",
       "      <th>ActualTime_Arr</th>\n",
       "      <th>DayOfService</th>\n",
       "      <th>PlannedTime_Arr</th>\n",
       "      <th>PlannedTime_Dep</th>\n",
       "      <th>LineID</th>\n",
       "      <th>DAY</th>\n",
       "      <th>MON</th>\n",
       "      <th>YEAR</th>\n",
       "    </tr>\n",
       "  </thead>\n",
       "  <tbody>\n",
       "    <tr>\n",
       "      <th>0</th>\n",
       "      <td>38022</td>\n",
       "      <td>01012018</td>\n",
       "      <td>38417</td>\n",
       "      <td>36000</td>\n",
       "      <td>1</td>\n",
       "      <td>01</td>\n",
       "      <td>01</td>\n",
       "      <td>2018</td>\n",
       "    </tr>\n",
       "    <tr>\n",
       "      <th>1</th>\n",
       "      <td>49653</td>\n",
       "      <td>01012018</td>\n",
       "      <td>50199</td>\n",
       "      <td>47400</td>\n",
       "      <td>1</td>\n",
       "      <td>01</td>\n",
       "      <td>01</td>\n",
       "      <td>2018</td>\n",
       "    </tr>\n",
       "    <tr>\n",
       "      <th>2</th>\n",
       "      <td>61566</td>\n",
       "      <td>01012018</td>\n",
       "      <td>61178</td>\n",
       "      <td>58200</td>\n",
       "      <td>1</td>\n",
       "      <td>01</td>\n",
       "      <td>01</td>\n",
       "      <td>2018</td>\n",
       "    </tr>\n",
       "    <tr>\n",
       "      <th>3</th>\n",
       "      <td>64454</td>\n",
       "      <td>01012018</td>\n",
       "      <td>64486</td>\n",
       "      <td>61800</td>\n",
       "      <td>1</td>\n",
       "      <td>01</td>\n",
       "      <td>01</td>\n",
       "      <td>2018</td>\n",
       "    </tr>\n",
       "    <tr>\n",
       "      <th>4</th>\n",
       "      <td>77498</td>\n",
       "      <td>01012018</td>\n",
       "      <td>77827</td>\n",
       "      <td>75600</td>\n",
       "      <td>1</td>\n",
       "      <td>01</td>\n",
       "      <td>01</td>\n",
       "      <td>2018</td>\n",
       "    </tr>\n",
       "    <tr>\n",
       "      <th>5</th>\n",
       "      <td>41873</td>\n",
       "      <td>01012018</td>\n",
       "      <td>42164</td>\n",
       "      <td>39600</td>\n",
       "      <td>1</td>\n",
       "      <td>01</td>\n",
       "      <td>01</td>\n",
       "      <td>2018</td>\n",
       "    </tr>\n",
       "    <tr>\n",
       "      <th>6</th>\n",
       "      <td>71732</td>\n",
       "      <td>01012018</td>\n",
       "      <td>71388</td>\n",
       "      <td>69000</td>\n",
       "      <td>1</td>\n",
       "      <td>01</td>\n",
       "      <td>01</td>\n",
       "      <td>2018</td>\n",
       "    </tr>\n",
       "    <tr>\n",
       "      <th>7</th>\n",
       "      <td>79237</td>\n",
       "      <td>01012018</td>\n",
       "      <td>79747</td>\n",
       "      <td>77400</td>\n",
       "      <td>1</td>\n",
       "      <td>01</td>\n",
       "      <td>01</td>\n",
       "      <td>2018</td>\n",
       "    </tr>\n",
       "    <tr>\n",
       "      <th>8</th>\n",
       "      <td>43724</td>\n",
       "      <td>01012018</td>\n",
       "      <td>43817</td>\n",
       "      <td>41400</td>\n",
       "      <td>1</td>\n",
       "      <td>01</td>\n",
       "      <td>01</td>\n",
       "      <td>2018</td>\n",
       "    </tr>\n",
       "    <tr>\n",
       "      <th>9</th>\n",
       "      <td>56527</td>\n",
       "      <td>01012018</td>\n",
       "      <td>56235</td>\n",
       "      <td>53400</td>\n",
       "      <td>1</td>\n",
       "      <td>01</td>\n",
       "      <td>01</td>\n",
       "      <td>2018</td>\n",
       "    </tr>\n",
       "    <tr>\n",
       "      <th>10</th>\n",
       "      <td>63159</td>\n",
       "      <td>01012018</td>\n",
       "      <td>63286</td>\n",
       "      <td>60600</td>\n",
       "      <td>1</td>\n",
       "      <td>01</td>\n",
       "      <td>01</td>\n",
       "      <td>2018</td>\n",
       "    </tr>\n",
       "    <tr>\n",
       "      <th>11</th>\n",
       "      <td>66752</td>\n",
       "      <td>01012018</td>\n",
       "      <td>67008</td>\n",
       "      <td>64200</td>\n",
       "      <td>1</td>\n",
       "      <td>01</td>\n",
       "      <td>01</td>\n",
       "      <td>2018</td>\n",
       "    </tr>\n",
       "    <tr>\n",
       "      <th>12</th>\n",
       "      <td>47626</td>\n",
       "      <td>01012018</td>\n",
       "      <td>47702</td>\n",
       "      <td>45000</td>\n",
       "      <td>1</td>\n",
       "      <td>01</td>\n",
       "      <td>01</td>\n",
       "      <td>2018</td>\n",
       "    </tr>\n",
       "    <tr>\n",
       "      <th>13</th>\n",
       "      <td>68932</td>\n",
       "      <td>01012018</td>\n",
       "      <td>69408</td>\n",
       "      <td>66600</td>\n",
       "      <td>1</td>\n",
       "      <td>01</td>\n",
       "      <td>01</td>\n",
       "      <td>2018</td>\n",
       "    </tr>\n",
       "    <tr>\n",
       "      <th>14</th>\n",
       "      <td>82934</td>\n",
       "      <td>01012018</td>\n",
       "      <td>83347</td>\n",
       "      <td>81000</td>\n",
       "      <td>1</td>\n",
       "      <td>01</td>\n",
       "      <td>01</td>\n",
       "      <td>2018</td>\n",
       "    </tr>\n",
       "    <tr>\n",
       "      <th>15</th>\n",
       "      <td>None</td>\n",
       "      <td>01012018</td>\n",
       "      <td>56378</td>\n",
       "      <td>53400</td>\n",
       "      <td>1</td>\n",
       "      <td>01</td>\n",
       "      <td>01</td>\n",
       "      <td>2018</td>\n",
       "    </tr>\n",
       "    <tr>\n",
       "      <th>16</th>\n",
       "      <td>58343</td>\n",
       "      <td>01012018</td>\n",
       "      <td>58635</td>\n",
       "      <td>55800</td>\n",
       "      <td>1</td>\n",
       "      <td>01</td>\n",
       "      <td>01</td>\n",
       "      <td>2018</td>\n",
       "    </tr>\n",
       "    <tr>\n",
       "      <th>17</th>\n",
       "      <td>81175</td>\n",
       "      <td>01012018</td>\n",
       "      <td>81427</td>\n",
       "      <td>79200</td>\n",
       "      <td>1</td>\n",
       "      <td>01</td>\n",
       "      <td>01</td>\n",
       "      <td>2018</td>\n",
       "    </tr>\n",
       "    <tr>\n",
       "      <th>18</th>\n",
       "      <td>72550</td>\n",
       "      <td>01012018</td>\n",
       "      <td>72835</td>\n",
       "      <td>70200</td>\n",
       "      <td>1</td>\n",
       "      <td>01</td>\n",
       "      <td>01</td>\n",
       "      <td>2018</td>\n",
       "    </tr>\n",
       "    <tr>\n",
       "      <th>19</th>\n",
       "      <td>41596</td>\n",
       "      <td>01012018</td>\n",
       "      <td>42017</td>\n",
       "      <td>39600</td>\n",
       "      <td>1</td>\n",
       "      <td>01</td>\n",
       "      <td>01</td>\n",
       "      <td>2018</td>\n",
       "    </tr>\n",
       "    <tr>\n",
       "      <th>20</th>\n",
       "      <td>None</td>\n",
       "      <td>01012018</td>\n",
       "      <td>59835</td>\n",
       "      <td>57000</td>\n",
       "      <td>1</td>\n",
       "      <td>01</td>\n",
       "      <td>01</td>\n",
       "      <td>2018</td>\n",
       "    </tr>\n",
       "    <tr>\n",
       "      <th>21</th>\n",
       "      <td>70434</td>\n",
       "      <td>01012018</td>\n",
       "      <td>70435</td>\n",
       "      <td>67800</td>\n",
       "      <td>1</td>\n",
       "      <td>01</td>\n",
       "      <td>01</td>\n",
       "      <td>2018</td>\n",
       "    </tr>\n",
       "    <tr>\n",
       "      <th>22</th>\n",
       "      <td>50934</td>\n",
       "      <td>01012018</td>\n",
       "      <td>51399</td>\n",
       "      <td>48600</td>\n",
       "      <td>1</td>\n",
       "      <td>01</td>\n",
       "      <td>01</td>\n",
       "      <td>2018</td>\n",
       "    </tr>\n",
       "    <tr>\n",
       "      <th>23</th>\n",
       "      <td>64588</td>\n",
       "      <td>01012018</td>\n",
       "      <td>65686</td>\n",
       "      <td>63000</td>\n",
       "      <td>1</td>\n",
       "      <td>01</td>\n",
       "      <td>01</td>\n",
       "      <td>2018</td>\n",
       "    </tr>\n",
       "    <tr>\n",
       "      <th>24</th>\n",
       "      <td>57318</td>\n",
       "      <td>01012018</td>\n",
       "      <td>57578</td>\n",
       "      <td>54600</td>\n",
       "      <td>1</td>\n",
       "      <td>01</td>\n",
       "      <td>01</td>\n",
       "      <td>2018</td>\n",
       "    </tr>\n",
       "    <tr>\n",
       "      <th>25</th>\n",
       "      <td>37924</td>\n",
       "      <td>01012018</td>\n",
       "      <td>38564</td>\n",
       "      <td>36000</td>\n",
       "      <td>1</td>\n",
       "      <td>01</td>\n",
       "      <td>01</td>\n",
       "      <td>2018</td>\n",
       "    </tr>\n",
       "    <tr>\n",
       "      <th>26</th>\n",
       "      <td>59577</td>\n",
       "      <td>01012018</td>\n",
       "      <td>59978</td>\n",
       "      <td>57000</td>\n",
       "      <td>1</td>\n",
       "      <td>01</td>\n",
       "      <td>01</td>\n",
       "      <td>2018</td>\n",
       "    </tr>\n",
       "    <tr>\n",
       "      <th>27</th>\n",
       "      <td>65723</td>\n",
       "      <td>01012018</td>\n",
       "      <td>65898</td>\n",
       "      <td>63000</td>\n",
       "      <td>1</td>\n",
       "      <td>01</td>\n",
       "      <td>01</td>\n",
       "      <td>2018</td>\n",
       "    </tr>\n",
       "    <tr>\n",
       "      <th>28</th>\n",
       "      <td>46348</td>\n",
       "      <td>01012018</td>\n",
       "      <td>45399</td>\n",
       "      <td>42600</td>\n",
       "      <td>1</td>\n",
       "      <td>01</td>\n",
       "      <td>01</td>\n",
       "      <td>2018</td>\n",
       "    </tr>\n",
       "    <tr>\n",
       "      <th>29</th>\n",
       "      <td>53526</td>\n",
       "      <td>01012018</td>\n",
       "      <td>53702</td>\n",
       "      <td>51000</td>\n",
       "      <td>1</td>\n",
       "      <td>01</td>\n",
       "      <td>01</td>\n",
       "      <td>2018</td>\n",
       "    </tr>\n",
       "    <tr>\n",
       "      <th>...</th>\n",
       "      <td>...</td>\n",
       "      <td>...</td>\n",
       "      <td>...</td>\n",
       "      <td>...</td>\n",
       "      <td>...</td>\n",
       "      <td>...</td>\n",
       "      <td>...</td>\n",
       "      <td>...</td>\n",
       "    </tr>\n",
       "    <tr>\n",
       "      <th>2182607</th>\n",
       "      <td>57766</td>\n",
       "      <td>31122018</td>\n",
       "      <td>57397</td>\n",
       "      <td>53100</td>\n",
       "      <td>9</td>\n",
       "      <td>31</td>\n",
       "      <td>12</td>\n",
       "      <td>2018</td>\n",
       "    </tr>\n",
       "    <tr>\n",
       "      <th>2182608</th>\n",
       "      <td>53894</td>\n",
       "      <td>31122018</td>\n",
       "      <td>53797</td>\n",
       "      <td>49500</td>\n",
       "      <td>9</td>\n",
       "      <td>31</td>\n",
       "      <td>12</td>\n",
       "      <td>2018</td>\n",
       "    </tr>\n",
       "    <tr>\n",
       "      <th>2182609</th>\n",
       "      <td>54929</td>\n",
       "      <td>31122018</td>\n",
       "      <td>54697</td>\n",
       "      <td>50400</td>\n",
       "      <td>9</td>\n",
       "      <td>31</td>\n",
       "      <td>12</td>\n",
       "      <td>2018</td>\n",
       "    </tr>\n",
       "    <tr>\n",
       "      <th>2182610</th>\n",
       "      <td>None</td>\n",
       "      <td>31122018</td>\n",
       "      <td>47497</td>\n",
       "      <td>43200</td>\n",
       "      <td>9</td>\n",
       "      <td>31</td>\n",
       "      <td>12</td>\n",
       "      <td>2018</td>\n",
       "    </tr>\n",
       "    <tr>\n",
       "      <th>2182611</th>\n",
       "      <td>51107</td>\n",
       "      <td>31122018</td>\n",
       "      <td>50197</td>\n",
       "      <td>45900</td>\n",
       "      <td>9</td>\n",
       "      <td>31</td>\n",
       "      <td>12</td>\n",
       "      <td>2018</td>\n",
       "    </tr>\n",
       "    <tr>\n",
       "      <th>2182612</th>\n",
       "      <td>48994</td>\n",
       "      <td>31122018</td>\n",
       "      <td>48397</td>\n",
       "      <td>44100</td>\n",
       "      <td>9</td>\n",
       "      <td>31</td>\n",
       "      <td>12</td>\n",
       "      <td>2018</td>\n",
       "    </tr>\n",
       "    <tr>\n",
       "      <th>2182613</th>\n",
       "      <td>65351</td>\n",
       "      <td>31122018</td>\n",
       "      <td>65704</td>\n",
       "      <td>61200</td>\n",
       "      <td>9</td>\n",
       "      <td>31</td>\n",
       "      <td>12</td>\n",
       "      <td>2018</td>\n",
       "    </tr>\n",
       "    <tr>\n",
       "      <th>2182614</th>\n",
       "      <td>66860</td>\n",
       "      <td>31122018</td>\n",
       "      <td>67504</td>\n",
       "      <td>63000</td>\n",
       "      <td>9</td>\n",
       "      <td>31</td>\n",
       "      <td>12</td>\n",
       "      <td>2018</td>\n",
       "    </tr>\n",
       "    <tr>\n",
       "      <th>2182615</th>\n",
       "      <td>68208</td>\n",
       "      <td>31122018</td>\n",
       "      <td>68404</td>\n",
       "      <td>63900</td>\n",
       "      <td>9</td>\n",
       "      <td>31</td>\n",
       "      <td>12</td>\n",
       "      <td>2018</td>\n",
       "    </tr>\n",
       "    <tr>\n",
       "      <th>2182616</th>\n",
       "      <td>64842</td>\n",
       "      <td>31122018</td>\n",
       "      <td>64653</td>\n",
       "      <td>60300</td>\n",
       "      <td>9</td>\n",
       "      <td>31</td>\n",
       "      <td>12</td>\n",
       "      <td>2018</td>\n",
       "    </tr>\n",
       "    <tr>\n",
       "      <th>2182617</th>\n",
       "      <td>62564</td>\n",
       "      <td>31122018</td>\n",
       "      <td>61953</td>\n",
       "      <td>57600</td>\n",
       "      <td>9</td>\n",
       "      <td>31</td>\n",
       "      <td>12</td>\n",
       "      <td>2018</td>\n",
       "    </tr>\n",
       "    <tr>\n",
       "      <th>2182618</th>\n",
       "      <td>63286</td>\n",
       "      <td>31122018</td>\n",
       "      <td>62853</td>\n",
       "      <td>58500</td>\n",
       "      <td>9</td>\n",
       "      <td>31</td>\n",
       "      <td>12</td>\n",
       "      <td>2018</td>\n",
       "    </tr>\n",
       "    <tr>\n",
       "      <th>2182619</th>\n",
       "      <td>60182</td>\n",
       "      <td>31122018</td>\n",
       "      <td>60153</td>\n",
       "      <td>55800</td>\n",
       "      <td>9</td>\n",
       "      <td>31</td>\n",
       "      <td>12</td>\n",
       "      <td>2018</td>\n",
       "    </tr>\n",
       "    <tr>\n",
       "      <th>2182620</th>\n",
       "      <td>59487</td>\n",
       "      <td>31122018</td>\n",
       "      <td>59253</td>\n",
       "      <td>54900</td>\n",
       "      <td>9</td>\n",
       "      <td>31</td>\n",
       "      <td>12</td>\n",
       "      <td>2018</td>\n",
       "    </tr>\n",
       "    <tr>\n",
       "      <th>2182621</th>\n",
       "      <td>60235</td>\n",
       "      <td>31122018</td>\n",
       "      <td>61053</td>\n",
       "      <td>56700</td>\n",
       "      <td>9</td>\n",
       "      <td>31</td>\n",
       "      <td>12</td>\n",
       "      <td>2018</td>\n",
       "    </tr>\n",
       "    <tr>\n",
       "      <th>2182622</th>\n",
       "      <td>64214</td>\n",
       "      <td>31122018</td>\n",
       "      <td>63753</td>\n",
       "      <td>59400</td>\n",
       "      <td>9</td>\n",
       "      <td>31</td>\n",
       "      <td>12</td>\n",
       "      <td>2018</td>\n",
       "    </tr>\n",
       "    <tr>\n",
       "      <th>2182623</th>\n",
       "      <td>41000</td>\n",
       "      <td>31122018</td>\n",
       "      <td>42145</td>\n",
       "      <td>37800</td>\n",
       "      <td>9</td>\n",
       "      <td>31</td>\n",
       "      <td>12</td>\n",
       "      <td>2018</td>\n",
       "    </tr>\n",
       "    <tr>\n",
       "      <th>2182624</th>\n",
       "      <td>45437</td>\n",
       "      <td>31122018</td>\n",
       "      <td>45745</td>\n",
       "      <td>41400</td>\n",
       "      <td>9</td>\n",
       "      <td>31</td>\n",
       "      <td>12</td>\n",
       "      <td>2018</td>\n",
       "    </tr>\n",
       "    <tr>\n",
       "      <th>2182625</th>\n",
       "      <td>43239</td>\n",
       "      <td>31122018</td>\n",
       "      <td>43345</td>\n",
       "      <td>39000</td>\n",
       "      <td>9</td>\n",
       "      <td>31</td>\n",
       "      <td>12</td>\n",
       "      <td>2018</td>\n",
       "    </tr>\n",
       "    <tr>\n",
       "      <th>2182626</th>\n",
       "      <td>46880</td>\n",
       "      <td>31122018</td>\n",
       "      <td>46645</td>\n",
       "      <td>42300</td>\n",
       "      <td>9</td>\n",
       "      <td>31</td>\n",
       "      <td>12</td>\n",
       "      <td>2018</td>\n",
       "    </tr>\n",
       "    <tr>\n",
       "      <th>2182627</th>\n",
       "      <td>29995</td>\n",
       "      <td>31122018</td>\n",
       "      <td>29243</td>\n",
       "      <td>26400</td>\n",
       "      <td>9</td>\n",
       "      <td>31</td>\n",
       "      <td>12</td>\n",
       "      <td>2018</td>\n",
       "    </tr>\n",
       "    <tr>\n",
       "      <th>2182628</th>\n",
       "      <td>31307</td>\n",
       "      <td>31122018</td>\n",
       "      <td>30443</td>\n",
       "      <td>27600</td>\n",
       "      <td>9</td>\n",
       "      <td>31</td>\n",
       "      <td>12</td>\n",
       "      <td>2018</td>\n",
       "    </tr>\n",
       "    <tr>\n",
       "      <th>2182629</th>\n",
       "      <td>28138</td>\n",
       "      <td>31122018</td>\n",
       "      <td>28043</td>\n",
       "      <td>25200</td>\n",
       "      <td>9</td>\n",
       "      <td>31</td>\n",
       "      <td>12</td>\n",
       "      <td>2018</td>\n",
       "    </tr>\n",
       "    <tr>\n",
       "      <th>2182630</th>\n",
       "      <td>71210</td>\n",
       "      <td>31122018</td>\n",
       "      <td>70029</td>\n",
       "      <td>66000</td>\n",
       "      <td>9</td>\n",
       "      <td>31</td>\n",
       "      <td>12</td>\n",
       "      <td>2018</td>\n",
       "    </tr>\n",
       "    <tr>\n",
       "      <th>2182631</th>\n",
       "      <td>72183</td>\n",
       "      <td>31122018</td>\n",
       "      <td>72429</td>\n",
       "      <td>68400</td>\n",
       "      <td>9</td>\n",
       "      <td>31</td>\n",
       "      <td>12</td>\n",
       "      <td>2018</td>\n",
       "    </tr>\n",
       "    <tr>\n",
       "      <th>2182632</th>\n",
       "      <td>70764</td>\n",
       "      <td>31122018</td>\n",
       "      <td>71229</td>\n",
       "      <td>67200</td>\n",
       "      <td>9</td>\n",
       "      <td>31</td>\n",
       "      <td>12</td>\n",
       "      <td>2018</td>\n",
       "    </tr>\n",
       "    <tr>\n",
       "      <th>2182633</th>\n",
       "      <td>28046</td>\n",
       "      <td>31122018</td>\n",
       "      <td>27504</td>\n",
       "      <td>24600</td>\n",
       "      <td>9</td>\n",
       "      <td>31</td>\n",
       "      <td>12</td>\n",
       "      <td>2018</td>\n",
       "    </tr>\n",
       "    <tr>\n",
       "      <th>2182634</th>\n",
       "      <td>32137</td>\n",
       "      <td>31122018</td>\n",
       "      <td>31931</td>\n",
       "      <td>28800</td>\n",
       "      <td>9</td>\n",
       "      <td>31</td>\n",
       "      <td>12</td>\n",
       "      <td>2018</td>\n",
       "    </tr>\n",
       "    <tr>\n",
       "      <th>2182635</th>\n",
       "      <td>33725</td>\n",
       "      <td>31122018</td>\n",
       "      <td>33131</td>\n",
       "      <td>30000</td>\n",
       "      <td>9</td>\n",
       "      <td>31</td>\n",
       "      <td>12</td>\n",
       "      <td>2018</td>\n",
       "    </tr>\n",
       "    <tr>\n",
       "      <th>2182636</th>\n",
       "      <td>34801</td>\n",
       "      <td>31122018</td>\n",
       "      <td>34331</td>\n",
       "      <td>31200</td>\n",
       "      <td>9</td>\n",
       "      <td>31</td>\n",
       "      <td>12</td>\n",
       "      <td>2018</td>\n",
       "    </tr>\n",
       "  </tbody>\n",
       "</table>\n",
       "<p>2182637 rows × 8 columns</p>\n",
       "</div>"
      ],
      "text/plain": [
       "        ActualTime_Arr DayOfService PlannedTime_Arr PlannedTime_Dep LineID  \\\n",
       "0                38022     01012018           38417           36000      1   \n",
       "1                49653     01012018           50199           47400      1   \n",
       "2                61566     01012018           61178           58200      1   \n",
       "3                64454     01012018           64486           61800      1   \n",
       "4                77498     01012018           77827           75600      1   \n",
       "5                41873     01012018           42164           39600      1   \n",
       "6                71732     01012018           71388           69000      1   \n",
       "7                79237     01012018           79747           77400      1   \n",
       "8                43724     01012018           43817           41400      1   \n",
       "9                56527     01012018           56235           53400      1   \n",
       "10               63159     01012018           63286           60600      1   \n",
       "11               66752     01012018           67008           64200      1   \n",
       "12               47626     01012018           47702           45000      1   \n",
       "13               68932     01012018           69408           66600      1   \n",
       "14               82934     01012018           83347           81000      1   \n",
       "15                None     01012018           56378           53400      1   \n",
       "16               58343     01012018           58635           55800      1   \n",
       "17               81175     01012018           81427           79200      1   \n",
       "18               72550     01012018           72835           70200      1   \n",
       "19               41596     01012018           42017           39600      1   \n",
       "20                None     01012018           59835           57000      1   \n",
       "21               70434     01012018           70435           67800      1   \n",
       "22               50934     01012018           51399           48600      1   \n",
       "23               64588     01012018           65686           63000      1   \n",
       "24               57318     01012018           57578           54600      1   \n",
       "25               37924     01012018           38564           36000      1   \n",
       "26               59577     01012018           59978           57000      1   \n",
       "27               65723     01012018           65898           63000      1   \n",
       "28               46348     01012018           45399           42600      1   \n",
       "29               53526     01012018           53702           51000      1   \n",
       "...                ...          ...             ...             ...    ...   \n",
       "2182607          57766     31122018           57397           53100      9   \n",
       "2182608          53894     31122018           53797           49500      9   \n",
       "2182609          54929     31122018           54697           50400      9   \n",
       "2182610           None     31122018           47497           43200      9   \n",
       "2182611          51107     31122018           50197           45900      9   \n",
       "2182612          48994     31122018           48397           44100      9   \n",
       "2182613          65351     31122018           65704           61200      9   \n",
       "2182614          66860     31122018           67504           63000      9   \n",
       "2182615          68208     31122018           68404           63900      9   \n",
       "2182616          64842     31122018           64653           60300      9   \n",
       "2182617          62564     31122018           61953           57600      9   \n",
       "2182618          63286     31122018           62853           58500      9   \n",
       "2182619          60182     31122018           60153           55800      9   \n",
       "2182620          59487     31122018           59253           54900      9   \n",
       "2182621          60235     31122018           61053           56700      9   \n",
       "2182622          64214     31122018           63753           59400      9   \n",
       "2182623          41000     31122018           42145           37800      9   \n",
       "2182624          45437     31122018           45745           41400      9   \n",
       "2182625          43239     31122018           43345           39000      9   \n",
       "2182626          46880     31122018           46645           42300      9   \n",
       "2182627          29995     31122018           29243           26400      9   \n",
       "2182628          31307     31122018           30443           27600      9   \n",
       "2182629          28138     31122018           28043           25200      9   \n",
       "2182630          71210     31122018           70029           66000      9   \n",
       "2182631          72183     31122018           72429           68400      9   \n",
       "2182632          70764     31122018           71229           67200      9   \n",
       "2182633          28046     31122018           27504           24600      9   \n",
       "2182634          32137     31122018           31931           28800      9   \n",
       "2182635          33725     31122018           33131           30000      9   \n",
       "2182636          34801     31122018           34331           31200      9   \n",
       "\n",
       "        DAY MON  YEAR  \n",
       "0        01  01  2018  \n",
       "1        01  01  2018  \n",
       "2        01  01  2018  \n",
       "3        01  01  2018  \n",
       "4        01  01  2018  \n",
       "5        01  01  2018  \n",
       "6        01  01  2018  \n",
       "7        01  01  2018  \n",
       "8        01  01  2018  \n",
       "9        01  01  2018  \n",
       "10       01  01  2018  \n",
       "11       01  01  2018  \n",
       "12       01  01  2018  \n",
       "13       01  01  2018  \n",
       "14       01  01  2018  \n",
       "15       01  01  2018  \n",
       "16       01  01  2018  \n",
       "17       01  01  2018  \n",
       "18       01  01  2018  \n",
       "19       01  01  2018  \n",
       "20       01  01  2018  \n",
       "21       01  01  2018  \n",
       "22       01  01  2018  \n",
       "23       01  01  2018  \n",
       "24       01  01  2018  \n",
       "25       01  01  2018  \n",
       "26       01  01  2018  \n",
       "27       01  01  2018  \n",
       "28       01  01  2018  \n",
       "29       01  01  2018  \n",
       "...      ..  ..   ...  \n",
       "2182607  31  12  2018  \n",
       "2182608  31  12  2018  \n",
       "2182609  31  12  2018  \n",
       "2182610  31  12  2018  \n",
       "2182611  31  12  2018  \n",
       "2182612  31  12  2018  \n",
       "2182613  31  12  2018  \n",
       "2182614  31  12  2018  \n",
       "2182615  31  12  2018  \n",
       "2182616  31  12  2018  \n",
       "2182617  31  12  2018  \n",
       "2182618  31  12  2018  \n",
       "2182619  31  12  2018  \n",
       "2182620  31  12  2018  \n",
       "2182621  31  12  2018  \n",
       "2182622  31  12  2018  \n",
       "2182623  31  12  2018  \n",
       "2182624  31  12  2018  \n",
       "2182625  31  12  2018  \n",
       "2182626  31  12  2018  \n",
       "2182627  31  12  2018  \n",
       "2182628  31  12  2018  \n",
       "2182629  31  12  2018  \n",
       "2182630  31  12  2018  \n",
       "2182631  31  12  2018  \n",
       "2182632  31  12  2018  \n",
       "2182633  31  12  2018  \n",
       "2182634  31  12  2018  \n",
       "2182635  31  12  2018  \n",
       "2182636  31  12  2018  \n",
       "\n",
       "[2182637 rows x 8 columns]"
      ]
     },
     "execution_count": 11,
     "metadata": {},
     "output_type": "execute_result"
    }
   ],
   "source": [
    "df['DAY']=df['DayOfService'].str[0:2]\n",
    "df['MON']=df['DayOfService'].str[2:4]\n",
    "df['YEAR']=df['DayOfService'].str[4:]\n",
    "df"
   ]
  },
  {
   "cell_type": "code",
   "execution_count": null,
   "metadata": {},
   "outputs": [],
   "source": [
    "\n",
    "\n",
    "# df1=pd.DataFrame({\"ActualTime_Arr\", \"DayOfService\", \"PlannedTime_Arr\",\"PlannedTime_Dep\",\"LineID\",\"PlannedTime_Dep\": df['PlannedTime_Dep'][:1000], \"Time\":0,\"DayOfService\":df['DayOfService'][:1000]})\n",
    "# df1[\"DayOfService\"]=df1[\"DayOfService\"].apply(lambda x: x.strftime('%d%m%Y'))\n",
    "\n"
   ]
  },
  {
   "cell_type": "code",
   "execution_count": 12,
   "metadata": {},
   "outputs": [
    {
     "data": {
      "text/plain": [
       "ActualTime_Arr     object\n",
       "DayOfService       object\n",
       "PlannedTime_Arr    object\n",
       "PlannedTime_Dep     int64\n",
       "LineID             object\n",
       "DAY                object\n",
       "MON                object\n",
       "YEAR               object\n",
       "dtype: object"
      ]
     },
     "execution_count": 12,
     "metadata": {},
     "output_type": "execute_result"
    }
   ],
   "source": [
    "\n",
    "\n",
    "df[\"PlannedTime_Dep\"] = df[\"PlannedTime_Dep\"].astype('int64')\n",
    "df.dtypes\n"
   ]
  },
  {
   "cell_type": "code",
   "execution_count": null,
   "metadata": {},
   "outputs": [],
   "source": [
    "for i,val in df.iterrows():\n",
    "#      print(val['PlannedTime_Dep'])\n",
    "    value=time.strftime('%H:%M',time.gmtime(val['PlannedTime_Dep']))\n",
    "    val[\"Planned_Time\"]=value\n",
    "    \n",
    "#     myval=time.strftime('%H%M%S',time.gmtime(val))\n",
    "# print(type(myval))\n",
    "#      if myval.isdigit():\n",
    "#         value=int(myval)\n",
    "#         print(i,value)\n",
    "#     else:\n",
    "#         print(i,myval)\n",
    "            \n",
    "#             =int(time.strftime('%H%M%S', time.gmtime(val)))"
   ]
  },
  {
   "cell_type": "code",
   "execution_count": null,
   "metadata": {},
   "outputs": [],
   "source": [
    "# df1['DAY']=df1['DayOfService'].str[0:2]\n",
    "# df1['MON']=df1['DayOfService'].str[2:4]\n",
    "# df1['YEAR']=df1['DayOfService'].str[4:]"
   ]
  },
  {
   "cell_type": "code",
   "execution_count": null,
   "metadata": {},
   "outputs": [],
   "source": [
    "df1=df1.drop([\"DayOfService\",\"PlannedTime_Dep\"],axis=1)"
   ]
  },
  {
   "cell_type": "code",
   "execution_count": null,
   "metadata": {},
   "outputs": [],
   "source": [
    "df1"
   ]
  },
  {
   "cell_type": "markdown",
   "metadata": {},
   "source": [
    "# Weather Data import"
   ]
  },
  {
   "cell_type": "code",
   "execution_count": null,
   "metadata": {},
   "outputs": [],
   "source": [
    "temp_df = pd.read_csv('hly175.csv',skiprows=14)"
   ]
  },
  {
   "cell_type": "code",
   "execution_count": null,
   "metadata": {},
   "outputs": [],
   "source": [
    "\n",
    "temp_df=temp_df.drop(temp_df.index[0:98985])\n",
    "temp_df=temp_df.drop([\"ind\",\"ind.1\",\"wetb\",\"dewpt\",\"vappr\",\"rhum\",\"msl\",\"ind.2\"],axis=1)\n",
    "temp_df\n"
   ]
  },
  {
   "cell_type": "code",
   "execution_count": null,
   "metadata": {},
   "outputs": [],
   "source": [
    "df1"
   ]
  },
  {
   "cell_type": "code",
   "execution_count": null,
   "metadata": {},
   "outputs": [],
   "source": [
    "temp_df['Time']= temp_df[\"date\"].str[11:]\n",
    "temp_df['DAY']=temp_df[\"date\"].str[:2]\n",
    "temp_df['MON']=temp_df[\"date\"].str[3:6]\n",
    "temp_df['YEAR']=temp_df[\"date\"].str[7:11]\n",
    "mapit= {'jan':'01', 'feb':'02', 'mar':'03', 'apr':'04','may':'05', 'jun':'06','jul':'07','aug':'08','sep':'09','oct':'10','nov':'11','dec':'12'}"
   ]
  },
  {
   "cell_type": "code",
   "execution_count": null,
   "metadata": {},
   "outputs": [],
   "source": [
    "temp_df.MON= temp_df.MON.map(mapit)\n",
    "temp_df=temp_df.drop([\"date\"],axis=1)"
   ]
  },
  {
   "cell_type": "code",
   "execution_count": null,
   "metadata": {},
   "outputs": [],
   "source": [
    "temp_df"
   ]
  },
  {
   "cell_type": "code",
   "execution_count": null,
   "metadata": {},
   "outputs": [],
   "source": [
    "for idx,row in temp_df.iterrows():\n",
    "      if row['']"
   ]
  },
  {
   "cell_type": "code",
   "execution_count": null,
   "metadata": {},
   "outputs": [],
   "source": [
    "DF2=pd.merge(df1,temp_df, on=['DAY','MON','YEAR'])"
   ]
  },
  {
   "cell_type": "code",
   "execution_count": null,
   "metadata": {},
   "outputs": [],
   "source": [
    "mdf=pd.merge_asof(temp_df,df1,on=['Time','DAY','MON','YEAR'] )"
   ]
  },
  {
   "cell_type": "code",
   "execution_count": null,
   "metadata": {},
   "outputs": [],
   "source": [
    "DF2"
   ]
  },
  {
   "cell_type": "code",
   "execution_count": null,
   "metadata": {},
   "outputs": [],
   "source": [
    "# temp_df=temp_df.set_index('Time')\n",
    "# temp_df"
   ]
  },
  {
   "cell_type": "code",
   "execution_count": null,
   "metadata": {},
   "outputs": [],
   "source": [
    "DF2=pd.merge(df1,temp_df, on=['Time','DAY','MON','YEAR'])"
   ]
  },
  {
   "cell_type": "code",
   "execution_count": null,
   "metadata": {},
   "outputs": [],
   "source": [
    "DF2"
   ]
  },
  {
   "cell_type": "code",
   "execution_count": null,
   "metadata": {},
   "outputs": [],
   "source": [
    "temp_df['new_date']"
   ]
  },
  {
   "cell_type": "code",
   "execution_count": null,
   "metadata": {},
   "outputs": [],
   "source": [
    "temp_df"
   ]
  },
  {
   "cell_type": "code",
   "execution_count": null,
   "metadata": {},
   "outputs": [],
   "source": [
    "temp_df.iloc[1, 1:] = df2.iloc[1, 1:].apply(pd.to_datetime, format = '%d-%b-%Y')"
   ]
  },
  {
   "cell_type": "code",
   "execution_count": null,
   "metadata": {},
   "outputs": [],
   "source": [
    "df.tail()"
   ]
  },
  {
   "cell_type": "code",
   "execution_count": null,
   "metadata": {},
   "outputs": [],
   "source": [
    "df.describe().T"
   ]
  },
  {
   "cell_type": "code",
   "execution_count": null,
   "metadata": {},
   "outputs": [],
   "source": []
  },
  {
   "cell_type": "code",
   "execution_count": null,
   "metadata": {},
   "outputs": [],
   "source": [
    "df.dtypes"
   ]
  },
  {
   "cell_type": "code",
   "execution_count": null,
   "metadata": {},
   "outputs": [],
   "source": [
    "df[\"ActualTime_Arr\"] = df[\"ActualTime_Arr\"].astype(\"int64\")\n",
    "df[\"PlannedTime_Arr\"] = df[\"PlannedTime_Arr\"].astype(\"int64\")\n",
    "df[\"PlannedTime_Dep\"] = df[\"PlannedTime_Dep\"].astype(\"int64\")"
   ]
  },
  {
   "cell_type": "code",
   "execution_count": null,
   "metadata": {},
   "outputs": [],
   "source": [
    "df.dtypes"
   ]
  },
  {
   "cell_type": "code",
   "execution_count": null,
   "metadata": {},
   "outputs": [],
   "source": [
    "df.head()"
   ]
  },
  {
   "cell_type": "code",
   "execution_count": null,
   "metadata": {},
   "outputs": [],
   "source": [
    "a = np.array(df[\"ActualTime_Arr\"])"
   ]
  },
  {
   "cell_type": "code",
   "execution_count": null,
   "metadata": {},
   "outputs": [],
   "source": [
    "# Convert the timedelta in seconds to a time\n",
    "# This does not need to be done for the model but\n",
    "# must be converted for the user\n",
    "# converter = lambda delta: str(ct.timedelta(seconds = delta))\n",
    "# b = np.array([converter(int(xi)) for xi in a])\n",
    "# b"
   ]
  },
  {
   "cell_type": "code",
   "execution_count": null,
   "metadata": {},
   "outputs": [],
   "source": [
    "# str(ct.timedelta(seconds=666))"
   ]
  },
  {
   "cell_type": "code",
   "execution_count": null,
   "metadata": {},
   "outputs": [],
   "source": [
    "procdf = df.copy()"
   ]
  },
  {
   "cell_type": "code",
   "execution_count": null,
   "metadata": {},
   "outputs": [],
   "source": [
    "# procdf[\"ActualTime_Arr\"] = b"
   ]
  },
  {
   "cell_type": "code",
   "execution_count": null,
   "metadata": {},
   "outputs": [],
   "source": [
    "procdf.head(5)"
   ]
  },
  {
   "cell_type": "markdown",
   "metadata": {},
   "source": [
    "Discussion\n",
    "=========\n",
    "The actual arrival time of a bus at the end of the route is functionally dependent upon the prevailing conditions on the route, which include the day, month, planned_dep_time and planned_arr_time. These latter two are important because they operate as time coordinates that uninquely identify the trip. When people plan trips they typically consider the departure time and arrival time, and select the departure time that gets them to their destination within a resasonable margin of the arrival time. For instance if a departure time leaves only 5 minutes margin between the planned arrival time and the time the person needs to get to a venue, they may choose an earlier departure time. The predicted time to arrival will be learned from "
   ]
  },
  {
   "cell_type": "markdown",
   "metadata": {},
   "source": [
    "Next need to extract month and day from the date. This will allow the machine model to accept month and day as arguments, after it has been trained on historical weather data that is merged into the dataset according to the date. The purpose for the full date is to allow for the weather data to be added and the month and day to be extracted. \n",
    "\n",
    "ActualTime_Dep/Arr can't be used for forecasting arrival in the future because the trip hasn't happened yet, and the data input to the predictive model has to be the same tuple of data as it was trained with, although with unseen values. \n",
    "\n",
    "One possible reason others haven't considered weather is because weather forecasts are typically only available a week in advance and so the predictive model would be limited by the forecast range available from the weather data API. So it may be sensible to have two different models: one for when weather is available for the given travel dates and the other for when weather isn't available. "
   ]
  },
  {
   "cell_type": "code",
   "execution_count": null,
   "metadata": {},
   "outputs": [],
   "source": [
    "dates = procdf[\"DayOfService\"]\n",
    "t = str(dates[0]).split('-')\n",
    "y = t[0]\n",
    "m = t[1]\n",
    "d = t[2]\n",
    "type(dates)"
   ]
  },
  {
   "cell_type": "code",
   "execution_count": null,
   "metadata": {},
   "outputs": [],
   "source": [
    "dates[0].weekday()"
   ]
  },
  {
   "cell_type": "code",
   "execution_count": null,
   "metadata": {},
   "outputs": [],
   "source": [
    "def decompt(dates: pd.core.series.Series)->np.array:\n",
    "    days = {0: \"Mon\", 1: \"Tues\", 2: \"Wed\", 3: \"Thurs\", 4: \"Fri\", 5: \"Sat\", 6: \"Sun\"}\n",
    "    y = list(range(len(dates)))\n",
    "    m = list(range(len(dates)))\n",
    "    d = list(range(len(dates)))\n",
    "    for i in range (len(dates)):\n",
    "        wkday = dates[i].weekday()\n",
    "        t = str(dates[i]).split(\"-\")\n",
    "        y[i] = t[0]\n",
    "        m[i] = t[1]\n",
    "#         d[i] = days[wkday] can't use strings in linear regresson mode\n",
    "        d[i] = wkday\n",
    "    return np.array(y), np.array(m), np.array(d)"
   ]
  },
  {
   "cell_type": "code",
   "execution_count": null,
   "metadata": {},
   "outputs": [],
   "source": [
    "ts = decompt(dates) # takes about 15sec to run; linear complexity"
   ]
  },
  {
   "cell_type": "code",
   "execution_count": null,
   "metadata": {},
   "outputs": [],
   "source": [
    "ts"
   ]
  },
  {
   "cell_type": "code",
   "execution_count": null,
   "metadata": {},
   "outputs": [],
   "source": [
    "procdf['month'] = ts[1]\n",
    "procdf['day'] = ts[2]"
   ]
  },
  {
   "cell_type": "code",
   "execution_count": null,
   "metadata": {},
   "outputs": [],
   "source": [
    "procdf.head()"
   ]
  },
  {
   "cell_type": "code",
   "execution_count": null,
   "metadata": {},
   "outputs": [],
   "source": [
    "cols = procdf.columns.tolist()\n",
    "cols = [cols[0], cols[1], cols[4], cols[5], cols[2], cols[3]]\n",
    "cols"
   ]
  },
  {
   "cell_type": "code",
   "execution_count": null,
   "metadata": {},
   "outputs": [],
   "source": [
    "procdf2 = procdf[cols]\n",
    "procdf2.tail()"
   ]
  },
  {
   "cell_type": "code",
   "execution_count": null,
   "metadata": {},
   "outputs": [],
   "source": [
    "procdf2.dtypes"
   ]
  },
  {
   "cell_type": "code",
   "execution_count": null,
   "metadata": {},
   "outputs": [],
   "source": [
    "# Remove the DayOfService Column\n",
    "objdf = procdf2.copy()\n",
    "objdf = pd.DataFrame(procdf2[[\"ActualTime_Arr\", \"month\", \n",
    "                              \"day\", \"PlannedTime_Arr\", \"PlannedTime_Dep\"]])"
   ]
  },
  {
   "cell_type": "code",
   "execution_count": null,
   "metadata": {},
   "outputs": [],
   "source": [
    "objdf.head()"
   ]
  },
  {
   "cell_type": "code",
   "execution_count": null,
   "metadata": {},
   "outputs": [],
   "source": [
    "l = list(objdf[\"month\"].unique())"
   ]
  },
  {
   "cell_type": "code",
   "execution_count": null,
   "metadata": {},
   "outputs": [],
   "source": [
    "# all months are accounted for\n",
    "l.sort()\n",
    "l"
   ]
  },
  {
   "cell_type": "code",
   "execution_count": null,
   "metadata": {},
   "outputs": [],
   "source": [
    "print(\"Number of duplicateed rows: \", objdf.duplicated().sum())"
   ]
  },
  {
   "cell_type": "code",
   "execution_count": null,
   "metadata": {},
   "outputs": [],
   "source": [
    "print(\"Number of duplicateed columns: \", objdf.T.duplicated().sum())"
   ]
  },
  {
   "cell_type": "code",
   "execution_count": null,
   "metadata": {},
   "outputs": [],
   "source": [
    "# show duplicates \n",
    "objdf['is_duplicated'] = objdf.duplicated()\n",
    "dups = objdf.index[objdf['is_duplicated'] == 1].tolist() # get index of duplicates\n",
    "print(dups)\n",
    "print(objdf.shape)"
   ]
  },
  {
   "cell_type": "code",
   "execution_count": null,
   "metadata": {},
   "outputs": [],
   "source": [
    "# drop duplicates by index\n",
    "objdf = objdf.drop(dups)"
   ]
  },
  {
   "cell_type": "code",
   "execution_count": null,
   "metadata": {},
   "outputs": [],
   "source": [
    "objdf.shape"
   ]
  },
  {
   "cell_type": "code",
   "execution_count": null,
   "metadata": {},
   "outputs": [],
   "source": [
    "# Drop is_duplicated column\n",
    "objdf = objdf.drop(['is_duplicated'], axis=1)"
   ]
  },
  {
   "cell_type": "markdown",
   "metadata": {},
   "source": [
    "Train a Linear Regression Model\n",
    "=========================\n"
   ]
  },
  {
   "cell_type": "code",
   "execution_count": null,
   "metadata": {},
   "outputs": [],
   "source": [
    "# Split for training and testing\n",
    "dfTrain, dfTest = train_test_split(objdf, shuffle=True, test_size=0.333)"
   ]
  },
  {
   "cell_type": "code",
   "execution_count": null,
   "metadata": {},
   "outputs": [],
   "source": [
    "# Reshuffle and Reindex the training sample\n",
    "dfTrain = dfTrain.sample(frac=1).reset_index(drop=True)\n",
    "print(dfTrain.shape)\n",
    "dfTrain.head()"
   ]
  },
  {
   "cell_type": "code",
   "execution_count": null,
   "metadata": {},
   "outputs": [],
   "source": [
    "dfTest = dfTest.sample(frac=1).reset_index(drop=True)\n",
    "print(dfTest.shape)\n",
    "dfTest.head()"
   ]
  },
  {
   "cell_type": "code",
   "execution_count": null,
   "metadata": {},
   "outputs": [],
   "source": [
    "# Save the dataframes for later use\n",
    "# dfTrain.to_csv('dfTrain.csv')\n",
    "# dfTest.to_csv('dfTest.csv')"
   ]
  },
  {
   "cell_type": "code",
   "execution_count": null,
   "metadata": {},
   "outputs": [],
   "source": [
    "# Target vector\n",
    "y = dfTrain['ActualTime_Arr']\n",
    "y.values"
   ]
  },
  {
   "cell_type": "code",
   "execution_count": null,
   "metadata": {},
   "outputs": [],
   "source": [
    "# Sample matrix\n",
    "x_features = [\"month\", \"day\", \"PlannedTime_Arr\", \"PlannedTime_Dep\"]\n",
    "X = dfTrain[x_features]\n",
    "X.values"
   ]
  },
  {
   "cell_type": "code",
   "execution_count": null,
   "metadata": {},
   "outputs": [],
   "source": [
    "lrm = LinearRegression().fit(X, y)"
   ]
  },
  {
   "cell_type": "code",
   "execution_count": null,
   "metadata": {},
   "outputs": [],
   "source": [
    "print(\"Feature: \\n\", \"ActualTime_Arr\")\n",
    "print(\"Coeficient/Weight: \\n\", lrm.coef_)\n",
    "print(\"Intercept/Bias: \\n\", lrm.intercept_)"
   ]
  },
  {
   "cell_type": "markdown",
   "metadata": {},
   "source": [
    "Linear Model Learned\n",
    "=================\n",
    "<p><b>ActualTime_Arr</b> = 50.6752754718691 + [(10.6109851 * <b>month</b>) + (22.154156 * <b>day</b>) + (1.02015296 * <b>PlannedTime_Arr</b>) + (-0.0197502832 * <b>PlannedTime_Dep</b>)] </p>"
   ]
  },
  {
   "cell_type": "code",
   "execution_count": null,
   "metadata": {},
   "outputs": [],
   "source": [
    "# save the model\n",
    "# pickle.dump(lrm, open(\"rough_lrm.sav\", \"wb\"))"
   ]
  },
  {
   "cell_type": "code",
   "execution_count": null,
   "metadata": {},
   "outputs": [],
   "source": [
    "model = pickle.load(open(\"rough_lrm.sav\", \"rb\"))\n",
    "model.score(X, y) # coefficient of determination = R^2: 1.0 is best possible score"
   ]
  },
  {
   "cell_type": "code",
   "execution_count": null,
   "metadata": {},
   "outputs": [],
   "source": [
    "predicts = lrm.predict(dfTrain[x_features])\n",
    "d = np.array(predicts)\n",
    "b = pd.DataFrame(d, columns=[\"Predicted_ActualTime_Arr\"])\n",
    "b = b.join(dfTrain[\"ActualTime_Arr\"])\n",
    "b.head()"
   ]
  },
  {
   "cell_type": "code",
   "execution_count": null,
   "metadata": {},
   "outputs": [],
   "source": [
    "b.loc[b.index.values[1]].diff()[1]"
   ]
  },
  {
   "cell_type": "code",
   "execution_count": null,
   "metadata": {},
   "outputs": [],
   "source": [
    "sum = []\n",
    "sum_2 = []\n",
    "for index in b.index.values:\n",
    "    sum.append(b.loc[index].diff()[1])\n",
    "    sum_2.append(b.loc[index].diff()[1]**2) # append the square of the difference\n",
    "s = pd.Series(sum_2)\n",
    "s = math.sqrt(s.sum()/b.shape[0]) # Root mean square \n",
    "s/60 # error in minutes"
   ]
  },
  {
   "cell_type": "code",
   "execution_count": null,
   "metadata": {},
   "outputs": [],
   "source": [
    "sumdfTrain = pd.DataFrame(sum)\n",
    "sumdfTrain.describe().T"
   ]
  },
  {
   "cell_type": "code",
   "execution_count": null,
   "metadata": {},
   "outputs": [],
   "source": [
    "plt.figure(dpi=600)\n",
    "num_bins = 15\n",
    "plt.xlabel('Error [s]')\n",
    "plt.ylabel('log#Errors')\n",
    "plt.title('Training Error Distribution')\n",
    "plt.hist(sum, num_bins, facecolor = 'red', log=True)\n",
    "# plt.savefig('dist_training_errors', bbox_inches = 'tight')\n",
    "plt.show()"
   ]
  },
  {
   "cell_type": "markdown",
   "metadata": {},
   "source": [
    "### Test the model on unseen dfTest"
   ]
  },
  {
   "cell_type": "code",
   "execution_count": null,
   "metadata": {},
   "outputs": [],
   "source": [
    "predictions = lrm.predict(dfTest[x_features])"
   ]
  },
  {
   "cell_type": "code",
   "execution_count": null,
   "metadata": {},
   "outputs": [],
   "source": [
    "q = np.array(predictions)"
   ]
  },
  {
   "cell_type": "code",
   "execution_count": null,
   "metadata": {},
   "outputs": [],
   "source": [
    "p = pd.DataFrame(q, columns=[\"Predicted_ActualTime_Arr\"])\n",
    "p = p.join(dfTest[\"ActualTime_Arr\"])\n",
    "p.head()"
   ]
  },
  {
   "cell_type": "code",
   "execution_count": null,
   "metadata": {},
   "outputs": [],
   "source": [
    "# Get differences betweeen actual and predicted value\n",
    "p.loc[p.index.values[1]].diff()[1]"
   ]
  },
  {
   "cell_type": "code",
   "execution_count": null,
   "metadata": {},
   "outputs": [],
   "source": [
    "sum = []\n",
    "sum_2 = []\n",
    "for index in p.index.values:\n",
    "    sum.append(p.loc[index].diff()[1])\n",
    "    sum_2.append(p.loc[index].diff()[1]**2) # append the square of the difference\n",
    "s = pd.Series(sum_2)\n",
    "s = math.sqrt(s.sum()/p.shape[0]) # Root mean square \n",
    "s/60 # error in minutes"
   ]
  },
  {
   "cell_type": "code",
   "execution_count": null,
   "metadata": {},
   "outputs": [],
   "source": [
    "sumdfTrain = pd.DataFrame(sum)\n",
    "sumdfTrain.describe().T"
   ]
  },
  {
   "cell_type": "code",
   "execution_count": null,
   "metadata": {},
   "outputs": [],
   "source": [
    "plt.figure(dpi=600)\n",
    "num_bins = 15\n",
    "plt.xlabel('Error [s]')\n",
    "plt.ylabel('log#Errors')\n",
    "plt.title('Test Error distribution')\n",
    "plt.hist(sum, num_bins, facecolor = 'red', log=True)\n",
    "# plt.savefig('dist_test_errors', bbox_inches = 'tight')\n",
    "plt.show()"
   ]
  },
  {
   "cell_type": "markdown",
   "metadata": {},
   "source": [
    "Discussion\n",
    "=========\n",
    "The **lrm** **_ActualTime__Arr** prediction deviates from the actual value by about 9 minutes with respect to both the training data and the test data. Compare this deviation with the Planned arrival time to see if the **lrm** is better than the method being used to make the schdeule. \n",
    "\n",
    "Take the **_PlannedTime__Arr** from just the test data and calculate the MSE between that and **_ActualTIme__Arr**. We can then see if our prediction is better than their prediction.\n",
    "\n",
    "The performance of any model may be improved by weather data. So far the model has been resolving by month and day, but the weather conditions on any given day or month may be a significant factor in the error. **Month** encodes prevailing weather information implicitly but **day** does not given that weather may change drastically between any pair of given 'Mondays', for instance. What's more, the light level is significant (need citation) and **month** implicity encodes light-level information. A better model therefore would include explicit prevailing weather and light-level information. \n",
    "\n",
    "One suspects that varying light-level could be more impactful moving distally from the equator. Equatorial light levels do not vary significantly throughout the year relative to more polar regions, except through the day/night cycle. At the equator, there is no significant seasonal cycling. Seasonality is ostensibly a super-tropical phenomenon."
   ]
  }
 ],
 "metadata": {
  "kernelspec": {
   "display_name": "Python 3",
   "language": "python",
   "name": "python3"
  },
  "language_info": {
   "codemirror_mode": {
    "name": "ipython",
    "version": 3
   },
   "file_extension": ".py",
   "mimetype": "text/x-python",
   "name": "python",
   "nbconvert_exporter": "python",
   "pygments_lexer": "ipython3",
   "version": "3.7.0"
  }
 },
 "nbformat": 4,
 "nbformat_minor": 2
}
